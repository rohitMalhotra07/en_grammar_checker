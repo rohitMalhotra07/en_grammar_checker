{
 "cells": [
  {
   "cell_type": "code",
   "execution_count": null,
   "id": "33aeca61-09de-4651-b099-d0cf7ea98dd6",
   "metadata": {},
   "outputs": [],
   "source": [
    "#| hide\n",
    "import pandas as pd\n",
    "from sklearn.model_selection import train_test_split\n",
    "\n",
    "from en_grammar_checker.config import Config"
   ]
  },
  {
   "cell_type": "code",
   "execution_count": null,
   "id": "ebc8f77a-73a2-4808-a3d1-94999e7ace27",
   "metadata": {},
   "outputs": [],
   "source": [
    "#| hide\n",
    "cnfg = Config()"
   ]
  },
  {
   "cell_type": "code",
   "execution_count": null,
   "id": "fa518140-5271-465d-8e80-2069d7424999",
   "metadata": {},
   "outputs": [],
   "source": [
    "#| hide\n",
    "dataset_path = \"../data/cola_public/raw/\""
   ]
  },
  {
   "cell_type": "code",
   "execution_count": null,
   "id": "8c9caaf3-81fa-4eca-b07a-5d9a5636f075",
   "metadata": {},
   "outputs": [
    {
     "data": {
      "text/plain": [
       "'../data/cola_public/raw/'"
      ]
     },
     "execution_count": null,
     "metadata": {},
     "output_type": "execute_result"
    }
   ],
   "source": [
    "#| hide\n",
    "dataset_path"
   ]
  },
  {
   "cell_type": "code",
   "execution_count": null,
   "id": "ce19d6ea-8f59-4b0f-abd8-2f5707c18af8",
   "metadata": {},
   "outputs": [],
   "source": []
  },
  {
   "cell_type": "code",
   "execution_count": null,
   "id": "4d473133-55d4-424e-b6e3-fe26bc10bb99",
   "metadata": {},
   "outputs": [],
   "source": [
    "#| hide\n",
    "df_train = pd.read_csv(\n",
    "    f\"{dataset_path}in_domain_train.tsv\",\n",
    "    delimiter=\"\\t\",\n",
    "    header=None,\n",
    "    names=[\"sentence_source\", \"label\", \"label_notes\", \"sentence\"],\n",
    ")"
   ]
  },
  {
   "cell_type": "code",
   "execution_count": null,
   "id": "53e0d0de-5d47-4219-9c4f-fe3ab6fc5983",
   "metadata": {},
   "outputs": [],
   "source": []
  },
  {
   "cell_type": "code",
   "execution_count": null,
   "id": "38268f53-25bf-462c-a1c0-a356d3bfcedf",
   "metadata": {},
   "outputs": [
    {
     "data": {
      "text/html": [
       "<div>\n",
       "<style scoped>\n",
       "    .dataframe tbody tr th:only-of-type {\n",
       "        vertical-align: middle;\n",
       "    }\n",
       "\n",
       "    .dataframe tbody tr th {\n",
       "        vertical-align: top;\n",
       "    }\n",
       "\n",
       "    .dataframe thead th {\n",
       "        text-align: right;\n",
       "    }\n",
       "</style>\n",
       "<table border=\"1\" class=\"dataframe\">\n",
       "  <thead>\n",
       "    <tr style=\"text-align: right;\">\n",
       "      <th></th>\n",
       "      <th>sentence_source</th>\n",
       "      <th>label</th>\n",
       "      <th>label_notes</th>\n",
       "      <th>sentence</th>\n",
       "    </tr>\n",
       "  </thead>\n",
       "  <tbody>\n",
       "    <tr>\n",
       "      <th>0</th>\n",
       "      <td>gj04</td>\n",
       "      <td>1</td>\n",
       "      <td>NaN</td>\n",
       "      <td>Our friends won't buy this analysis, let alone...</td>\n",
       "    </tr>\n",
       "    <tr>\n",
       "      <th>1</th>\n",
       "      <td>gj04</td>\n",
       "      <td>1</td>\n",
       "      <td>NaN</td>\n",
       "      <td>One more pseudo generalization and I'm giving up.</td>\n",
       "    </tr>\n",
       "    <tr>\n",
       "      <th>2</th>\n",
       "      <td>gj04</td>\n",
       "      <td>1</td>\n",
       "      <td>NaN</td>\n",
       "      <td>One more pseudo generalization or I'm giving up.</td>\n",
       "    </tr>\n",
       "    <tr>\n",
       "      <th>3</th>\n",
       "      <td>gj04</td>\n",
       "      <td>1</td>\n",
       "      <td>NaN</td>\n",
       "      <td>The more we study verbs, the crazier they get.</td>\n",
       "    </tr>\n",
       "    <tr>\n",
       "      <th>4</th>\n",
       "      <td>gj04</td>\n",
       "      <td>1</td>\n",
       "      <td>NaN</td>\n",
       "      <td>Day by day the facts are getting murkier.</td>\n",
       "    </tr>\n",
       "  </tbody>\n",
       "</table>\n",
       "</div>"
      ],
      "text/plain": [
       "  sentence_source  label label_notes  \\\n",
       "0            gj04      1         NaN   \n",
       "1            gj04      1         NaN   \n",
       "2            gj04      1         NaN   \n",
       "3            gj04      1         NaN   \n",
       "4            gj04      1         NaN   \n",
       "\n",
       "                                            sentence  \n",
       "0  Our friends won't buy this analysis, let alone...  \n",
       "1  One more pseudo generalization and I'm giving up.  \n",
       "2   One more pseudo generalization or I'm giving up.  \n",
       "3     The more we study verbs, the crazier they get.  \n",
       "4          Day by day the facts are getting murkier.  "
      ]
     },
     "execution_count": null,
     "metadata": {},
     "output_type": "execute_result"
    }
   ],
   "source": [
    "df_train.head()"
   ]
  },
  {
   "cell_type": "code",
   "execution_count": null,
   "id": "8dc50378-1f19-44ec-83aa-539515390445",
   "metadata": {},
   "outputs": [
    {
     "data": {
      "text/plain": [
       "\"Our friends won't buy this analysis, let alone the next one we propose.\""
      ]
     },
     "execution_count": null,
     "metadata": {},
     "output_type": "execute_result"
    }
   ],
   "source": [
    "df_train.iloc[0].sentence"
   ]
  },
  {
   "cell_type": "code",
   "execution_count": null,
   "id": "11472c46-d746-4152-bf24-ff6fa86a8cfb",
   "metadata": {},
   "outputs": [
    {
     "data": {
      "text/plain": [
       "sentence_source\n",
       "ks08      1745\n",
       "l-93      1294\n",
       "r-67       916\n",
       "ad03       852\n",
       "c_13       778\n",
       "bc01       772\n",
       "sks13      573\n",
       "m_02       378\n",
       "b_73       238\n",
       "cj99       210\n",
       "d_98       162\n",
       "sgww85     139\n",
       "rhl07      134\n",
       "gj04        99\n",
       "g_81        99\n",
       "b_82        83\n",
       "kl93        79\n",
       "Name: count, dtype: int64"
      ]
     },
     "execution_count": null,
     "metadata": {},
     "output_type": "execute_result"
    }
   ],
   "source": [
    "df_train.sentence_source.value_counts()"
   ]
  },
  {
   "cell_type": "code",
   "execution_count": null,
   "id": "7ba667f0-cd48-410f-bc25-ffc37ba22d8f",
   "metadata": {},
   "outputs": [
    {
     "name": "stdout",
     "output_type": "stream",
     "text": [
      "<class 'pandas.core.frame.DataFrame'>\n",
      "RangeIndex: 8551 entries, 0 to 8550\n",
      "Data columns (total 4 columns):\n",
      " #   Column           Non-Null Count  Dtype \n",
      "---  ------           --------------  ----- \n",
      " 0   sentence_source  8551 non-null   object\n",
      " 1   label            8551 non-null   int64 \n",
      " 2   label_notes      2527 non-null   object\n",
      " 3   sentence         8551 non-null   object\n",
      "dtypes: int64(1), object(3)\n",
      "memory usage: 267.3+ KB\n"
     ]
    }
   ],
   "source": [
    "df_train.info()"
   ]
  },
  {
   "cell_type": "code",
   "execution_count": null,
   "id": "1ef19d30-416f-4a16-b4f9-62c7daefa541",
   "metadata": {},
   "outputs": [
    {
     "data": {
      "text/plain": [
       "label\n",
       "1    6023\n",
       "0    2528\n",
       "Name: count, dtype: int64"
      ]
     },
     "execution_count": null,
     "metadata": {},
     "output_type": "execute_result"
    }
   ],
   "source": [
    "df_train.label.value_counts()"
   ]
  },
  {
   "cell_type": "code",
   "execution_count": null,
   "id": "c23783e7-27d0-4e6b-bc37-67c99c7a7662",
   "metadata": {},
   "outputs": [
    {
     "data": {
      "text/plain": [
       "sentence\n",
       "2    7538\n",
       "1     990\n",
       "3      20\n",
       "4       3\n",
       "Name: count, dtype: int64"
      ]
     },
     "execution_count": null,
     "metadata": {},
     "output_type": "execute_result"
    }
   ],
   "source": [
    "df_train.sentence.apply(lambda x: len(x.split(\".\"))).value_counts()"
   ]
  },
  {
   "cell_type": "code",
   "execution_count": null,
   "id": "c2df7f38-dd21-4cb4-8935-ff27bc85f379",
   "metadata": {},
   "outputs": [],
   "source": [
    "# df_train.sentence.apply(lambda x: len(x.split('.')))"
   ]
  },
  {
   "cell_type": "code",
   "execution_count": null,
   "id": "6925cda5",
   "metadata": {},
   "outputs": [
    {
     "data": {
      "text/plain": [
       "count    8551.000000\n",
       "mean        7.696059\n",
       "std         3.622946\n",
       "min         2.000000\n",
       "25%         5.000000\n",
       "50%         7.000000\n",
       "75%         9.000000\n",
       "max        42.000000\n",
       "Name: sentence, dtype: float64"
      ]
     },
     "execution_count": null,
     "metadata": {},
     "output_type": "execute_result"
    }
   ],
   "source": [
    "df_train.sentence.apply(lambda x: len(x.split(\" \"))).describe()"
   ]
  },
  {
   "cell_type": "code",
   "execution_count": null,
   "id": "970e48bf",
   "metadata": {},
   "outputs": [],
   "source": []
  },
  {
   "cell_type": "code",
   "execution_count": null,
   "id": "fc2e34c4",
   "metadata": {},
   "outputs": [],
   "source": []
  },
  {
   "cell_type": "code",
   "execution_count": null,
   "id": "55229a27-9d6a-4e7f-8e6c-599065889ce3",
   "metadata": {},
   "outputs": [],
   "source": []
  },
  {
   "cell_type": "markdown",
   "id": "6784d176-5c1c-4119-8662-75396e3b9e68",
   "metadata": {},
   "source": [
    "## Prepare new Data"
   ]
  },
  {
   "cell_type": "code",
   "execution_count": null,
   "id": "faabe791-ae29-4db6-a4c0-50f591791f03",
   "metadata": {},
   "outputs": [],
   "source": [
    "#| hide\n",
    "train_data_2 = pd.read_csv(\"../data/ged_data/train_data.csv\")\n",
    "val_data_2 = pd.read_csv(\"../data/ged_data/val_data.csv\")"
   ]
  },
  {
   "cell_type": "code",
   "execution_count": null,
   "id": "966258d5-afae-4d9a-ac6b-25908e4fa36c",
   "metadata": {},
   "outputs": [],
   "source": [
    "#| hide\n",
    "train_data_2 = train_data_2.rename(columns={\"input\": \"sentence\", \"labels\": \"label\"})\n",
    "val_data_2 = val_data_2.rename(columns={\"input\": \"sentence\", \"labels\": \"label\"})\n",
    "\n",
    "data_2_df = (\n",
    "    pd.concat([train_data_2, val_data_2])\n",
    "    .sample(frac=1, random_state=42)\n",
    "    .reset_index(drop=True)\n",
    ")"
   ]
  },
  {
   "cell_type": "code",
   "execution_count": null,
   "id": "18879b00-a4af-45d8-8cbb-14a05cf6ef25",
   "metadata": {},
   "outputs": [
    {
     "data": {
      "text/plain": [
       "((19998, 2), (10000, 2), (29998, 2))"
      ]
     },
     "execution_count": null,
     "metadata": {},
     "output_type": "execute_result"
    }
   ],
   "source": [
    "#| hide\n",
    "train_data_2.shape, val_data_2.shape, data_2_df.shape"
   ]
  },
  {
   "cell_type": "code",
   "execution_count": null,
   "id": "86887b94-f742-4f1c-988f-1b4863980683",
   "metadata": {},
   "outputs": [
    {
     "data": {
      "text/html": [
       "<div>\n",
       "<style scoped>\n",
       "    .dataframe tbody tr th:only-of-type {\n",
       "        vertical-align: middle;\n",
       "    }\n",
       "\n",
       "    .dataframe tbody tr th {\n",
       "        vertical-align: top;\n",
       "    }\n",
       "\n",
       "    .dataframe thead th {\n",
       "        text-align: right;\n",
       "    }\n",
       "</style>\n",
       "<table border=\"1\" class=\"dataframe\">\n",
       "  <thead>\n",
       "    <tr style=\"text-align: right;\">\n",
       "      <th></th>\n",
       "      <th>sentence</th>\n",
       "      <th>label</th>\n",
       "    </tr>\n",
       "  </thead>\n",
       "  <tbody>\n",
       "    <tr>\n",
       "      <th>0</th>\n",
       "      <td>It was really delicious ! !</td>\n",
       "      <td>1</td>\n",
       "    </tr>\n",
       "  </tbody>\n",
       "</table>\n",
       "</div>"
      ],
      "text/plain": [
       "                      sentence  label\n",
       "0  It was really delicious ! !      1"
      ]
     },
     "execution_count": null,
     "metadata": {},
     "output_type": "execute_result"
    }
   ],
   "source": [
    "data_2_df.head(1)"
   ]
  },
  {
   "cell_type": "code",
   "execution_count": null,
   "id": "e54fe56d-a3d5-40bd-9376-eaae667798f8",
   "metadata": {},
   "outputs": [],
   "source": [
    "#| hide\n",
    "train_data_1 = pd.read_csv(\n",
    "    f\"../data/cola_public/raw/in_domain_train.tsv\",\n",
    "    delimiter=\"\\t\",\n",
    "    header=None,\n",
    "    names=[\"sentence_source\", \"label\", \"label_notes\", \"sentence\"],\n",
    ")"
   ]
  },
  {
   "cell_type": "code",
   "execution_count": null,
   "id": "187c58ae-4d51-4677-832f-0656d6312931",
   "metadata": {},
   "outputs": [],
   "source": [
    "#| hide\n",
    "val_data_1 = pd.read_csv(\n",
    "    f\"../data/cola_public/raw/in_domain_dev.tsv\",\n",
    "    delimiter=\"\\t\",\n",
    "    header=None,\n",
    "    names=[\"sentence_source\", \"label\", \"label_notes\", \"sentence\"],\n",
    ")"
   ]
  },
  {
   "cell_type": "code",
   "execution_count": null,
   "id": "2d599e4d-d14a-46ac-a461-e1073af53d9d",
   "metadata": {},
   "outputs": [],
   "source": [
    "#| hide\n",
    "test_data_1 = pd.read_csv(\n",
    "    f\"../data/cola_public/raw/out_of_domain_dev.tsv\",\n",
    "    delimiter=\"\\t\",\n",
    "    header=None,\n",
    "    names=[\"sentence_source\", \"label\", \"label_notes\", \"sentence\"],\n",
    ")"
   ]
  },
  {
   "cell_type": "code",
   "execution_count": null,
   "id": "5f1286b2-34f3-4dca-955d-86de8d08a2b8",
   "metadata": {},
   "outputs": [],
   "source": [
    "#| hide\n",
    "train_data_1 = train_data_1[[\"sentence\", \"label\"]]\n",
    "val_data_1 = val_data_1[[\"sentence\", \"label\"]]\n",
    "test_data_1 = test_data_1[[\"sentence\", \"label\"]]\n",
    "\n",
    "data_1_df = (\n",
    "    pd.concat([train_data_1, val_data_1])\n",
    "    .sample(frac=1, random_state=42)\n",
    "    .reset_index(drop=True)\n",
    ")"
   ]
  },
  {
   "cell_type": "code",
   "execution_count": null,
   "id": "6a1f800d-c79b-48ff-b935-2a0263ba9bf1",
   "metadata": {},
   "outputs": [
    {
     "data": {
      "text/plain": [
       "(9078, 2)"
      ]
     },
     "execution_count": null,
     "metadata": {},
     "output_type": "execute_result"
    }
   ],
   "source": [
    "#| hide\n",
    "data_1_df.shape"
   ]
  },
  {
   "cell_type": "code",
   "execution_count": null,
   "id": "dae25be5-b958-4b91-978a-74b388d15742",
   "metadata": {},
   "outputs": [
    {
     "data": {
      "text/html": [
       "<div>\n",
       "<style scoped>\n",
       "    .dataframe tbody tr th:only-of-type {\n",
       "        vertical-align: middle;\n",
       "    }\n",
       "\n",
       "    .dataframe tbody tr th {\n",
       "        vertical-align: top;\n",
       "    }\n",
       "\n",
       "    .dataframe thead th {\n",
       "        text-align: right;\n",
       "    }\n",
       "</style>\n",
       "<table border=\"1\" class=\"dataframe\">\n",
       "  <thead>\n",
       "    <tr style=\"text-align: right;\">\n",
       "      <th></th>\n",
       "      <th>sentence</th>\n",
       "      <th>label</th>\n",
       "    </tr>\n",
       "  </thead>\n",
       "  <tbody>\n",
       "    <tr>\n",
       "      <th>0</th>\n",
       "      <td>The only offer of which I plan to take advanta...</td>\n",
       "      <td>1</td>\n",
       "    </tr>\n",
       "    <tr>\n",
       "      <th>1</th>\n",
       "      <td>I would like to might do it</td>\n",
       "      <td>0</td>\n",
       "    </tr>\n",
       "  </tbody>\n",
       "</table>\n",
       "</div>"
      ],
      "text/plain": [
       "                                            sentence  label\n",
       "0  The only offer of which I plan to take advanta...      1\n",
       "1                        I would like to might do it      0"
      ]
     },
     "execution_count": null,
     "metadata": {},
     "output_type": "execute_result"
    }
   ],
   "source": [
    "#| hide\n",
    "data_1_df.head(2)"
   ]
  },
  {
   "cell_type": "code",
   "execution_count": null,
   "id": "41d9634b-94cc-4c17-8b84-26498191fb64",
   "metadata": {},
   "outputs": [
    {
     "data": {
      "text/html": [
       "<div>\n",
       "<style scoped>\n",
       "    .dataframe tbody tr th:only-of-type {\n",
       "        vertical-align: middle;\n",
       "    }\n",
       "\n",
       "    .dataframe tbody tr th {\n",
       "        vertical-align: top;\n",
       "    }\n",
       "\n",
       "    .dataframe thead th {\n",
       "        text-align: right;\n",
       "    }\n",
       "</style>\n",
       "<table border=\"1\" class=\"dataframe\">\n",
       "  <thead>\n",
       "    <tr style=\"text-align: right;\">\n",
       "      <th></th>\n",
       "      <th>sentence</th>\n",
       "      <th>label</th>\n",
       "    </tr>\n",
       "  </thead>\n",
       "  <tbody>\n",
       "    <tr>\n",
       "      <th>0</th>\n",
       "      <td>It was really delicious ! !</td>\n",
       "      <td>1</td>\n",
       "    </tr>\n",
       "    <tr>\n",
       "      <th>1</th>\n",
       "      <td>I think my wrritten English is Chinglish .</td>\n",
       "      <td>0</td>\n",
       "    </tr>\n",
       "  </tbody>\n",
       "</table>\n",
       "</div>"
      ],
      "text/plain": [
       "                                     sentence  label\n",
       "0                 It was really delicious ! !      1\n",
       "1  I think my wrritten English is Chinglish .      0"
      ]
     },
     "execution_count": null,
     "metadata": {},
     "output_type": "execute_result"
    }
   ],
   "source": [
    "#| hide\n",
    "data_2_df.head(2)"
   ]
  },
  {
   "cell_type": "code",
   "execution_count": null,
   "id": "b6e50fa9-7c75-4cb7-933e-3398b9fe6037",
   "metadata": {},
   "outputs": [],
   "source": [
    "#| hide\n",
    "data_df = (\n",
    "    pd.concat([data_1_df, data_2_df])\n",
    "    .sample(frac=1, random_state=42)\n",
    "    .reset_index(drop=True)\n",
    ")"
   ]
  },
  {
   "cell_type": "code",
   "execution_count": null,
   "id": "e18341d7-d548-4973-81ff-1fbb838e6e34",
   "metadata": {},
   "outputs": [
    {
     "data": {
      "text/plain": [
       "(39076, 2)"
      ]
     },
     "execution_count": null,
     "metadata": {},
     "output_type": "execute_result"
    }
   ],
   "source": [
    "#| hide\n",
    "data_df.shape"
   ]
  },
  {
   "cell_type": "code",
   "execution_count": null,
   "id": "7e2238c9-015d-459a-b5b6-4b1d286e6e46",
   "metadata": {},
   "outputs": [],
   "source": [
    "#| hide\n",
    "train_df, test_df = train_test_split(data_df, test_size=0.1, random_state=42)\n",
    "final_train_df = train_df.sample(frac=1, random_state=42).reset_index(drop=True)\n",
    "test_df = test_df.sample(frac=1).reset_index(drop=True)"
   ]
  },
  {
   "cell_type": "code",
   "execution_count": null,
   "id": "7463a5ed-1e2d-43aa-bd66-c9ff13646f8a",
   "metadata": {},
   "outputs": [],
   "source": []
  },
  {
   "cell_type": "code",
   "execution_count": null,
   "id": "5f893df7-3513-405c-a4ef-4971f41add1b",
   "metadata": {},
   "outputs": [],
   "source": [
    "#| hide\n",
    "final_test_df = (\n",
    "    pd.concat([test_df, test_data_1])\n",
    "    .sample(frac=1, random_state=42)\n",
    "    .reset_index(drop=True)\n",
    ")"
   ]
  },
  {
   "cell_type": "code",
   "execution_count": null,
   "id": "f0199871-6f92-4849-b2c7-5d491a4eaf19",
   "metadata": {},
   "outputs": [
    {
     "data": {
      "text/html": [
       "<div>\n",
       "<style scoped>\n",
       "    .dataframe tbody tr th:only-of-type {\n",
       "        vertical-align: middle;\n",
       "    }\n",
       "\n",
       "    .dataframe tbody tr th {\n",
       "        vertical-align: top;\n",
       "    }\n",
       "\n",
       "    .dataframe thead th {\n",
       "        text-align: right;\n",
       "    }\n",
       "</style>\n",
       "<table border=\"1\" class=\"dataframe\">\n",
       "  <thead>\n",
       "    <tr style=\"text-align: right;\">\n",
       "      <th></th>\n",
       "      <th>sentence</th>\n",
       "      <th>label</th>\n",
       "    </tr>\n",
       "  </thead>\n",
       "  <tbody>\n",
       "    <tr>\n",
       "      <th>0</th>\n",
       "      <td>At the time , Japan suffered from chronic ener...</td>\n",
       "      <td>1</td>\n",
       "    </tr>\n",
       "    <tr>\n",
       "      <th>1</th>\n",
       "      <td>But I am not sad .</td>\n",
       "      <td>1</td>\n",
       "    </tr>\n",
       "    <tr>\n",
       "      <th>2</th>\n",
       "      <td>What is the different between relevant to and ...</td>\n",
       "      <td>0</td>\n",
       "    </tr>\n",
       "    <tr>\n",
       "      <th>3</th>\n",
       "      <td>Medea wondered if that the potion was ready</td>\n",
       "      <td>0</td>\n",
       "    </tr>\n",
       "    <tr>\n",
       "      <th>4</th>\n",
       "      <td>Then I went a pharmacy to buy medicine for a c...</td>\n",
       "      <td>0</td>\n",
       "    </tr>\n",
       "    <tr>\n",
       "      <th>...</th>\n",
       "      <td>...</td>\n",
       "      <td>...</td>\n",
       "    </tr>\n",
       "    <tr>\n",
       "      <th>35163</th>\n",
       "      <td>But I ca not write English well and speak .</td>\n",
       "      <td>0</td>\n",
       "    </tr>\n",
       "    <tr>\n",
       "      <th>35164</th>\n",
       "      <td>We had happily listened to all the latest news .</td>\n",
       "      <td>1</td>\n",
       "    </tr>\n",
       "    <tr>\n",
       "      <th>35165</th>\n",
       "      <td>overall , i am convinced that governments shou...</td>\n",
       "      <td>0</td>\n",
       "    </tr>\n",
       "    <tr>\n",
       "      <th>35166</th>\n",
       "      <td>Retrace this year</td>\n",
       "      <td>0</td>\n",
       "    </tr>\n",
       "    <tr>\n",
       "      <th>35167</th>\n",
       "      <td>The news was dealt with carefully.</td>\n",
       "      <td>1</td>\n",
       "    </tr>\n",
       "  </tbody>\n",
       "</table>\n",
       "<p>35168 rows × 2 columns</p>\n",
       "</div>"
      ],
      "text/plain": [
       "                                                sentence  label\n",
       "0      At the time , Japan suffered from chronic ener...      1\n",
       "1                                     But I am not sad .      1\n",
       "2      What is the different between relevant to and ...      0\n",
       "3            Medea wondered if that the potion was ready      0\n",
       "4      Then I went a pharmacy to buy medicine for a c...      0\n",
       "...                                                  ...    ...\n",
       "35163        But I ca not write English well and speak .      0\n",
       "35164   We had happily listened to all the latest news .      1\n",
       "35165  overall , i am convinced that governments shou...      0\n",
       "35166                                  Retrace this year      0\n",
       "35167                 The news was dealt with carefully.      1\n",
       "\n",
       "[35168 rows x 2 columns]"
      ]
     },
     "execution_count": null,
     "metadata": {},
     "output_type": "execute_result"
    }
   ],
   "source": [
    "#| hide\n",
    "final_train_df"
   ]
  },
  {
   "cell_type": "code",
   "execution_count": null,
   "id": "d24f683c-a396-4aee-8f69-dd5553ce314f",
   "metadata": {},
   "outputs": [
    {
     "data": {
      "text/html": [
       "<div>\n",
       "<style scoped>\n",
       "    .dataframe tbody tr th:only-of-type {\n",
       "        vertical-align: middle;\n",
       "    }\n",
       "\n",
       "    .dataframe tbody tr th {\n",
       "        vertical-align: top;\n",
       "    }\n",
       "\n",
       "    .dataframe thead th {\n",
       "        text-align: right;\n",
       "    }\n",
       "</style>\n",
       "<table border=\"1\" class=\"dataframe\">\n",
       "  <thead>\n",
       "    <tr style=\"text-align: right;\">\n",
       "      <th></th>\n",
       "      <th>sentence</th>\n",
       "      <th>label</th>\n",
       "    </tr>\n",
       "  </thead>\n",
       "  <tbody>\n",
       "    <tr>\n",
       "      <th>0</th>\n",
       "      <td>If I have things that I want to do , I have to...</td>\n",
       "      <td>1</td>\n",
       "    </tr>\n",
       "    <tr>\n",
       "      <th>1</th>\n",
       "      <td>I am hungry .</td>\n",
       "      <td>1</td>\n",
       "    </tr>\n",
       "    <tr>\n",
       "      <th>2</th>\n",
       "      <td>The mouse nibbled the cheese.</td>\n",
       "      <td>1</td>\n",
       "    </tr>\n",
       "    <tr>\n",
       "      <th>3</th>\n",
       "      <td>I think that is what is important .</td>\n",
       "      <td>1</td>\n",
       "    </tr>\n",
       "    <tr>\n",
       "      <th>4</th>\n",
       "      <td>Someone in the residents is a flower designer .</td>\n",
       "      <td>1</td>\n",
       "    </tr>\n",
       "    <tr>\n",
       "      <th>...</th>\n",
       "      <td>...</td>\n",
       "      <td>...</td>\n",
       "    </tr>\n",
       "    <tr>\n",
       "      <th>4419</th>\n",
       "      <td>And the dances were in the orbit of the planets .</td>\n",
       "      <td>1</td>\n",
       "    </tr>\n",
       "    <tr>\n",
       "      <th>4420</th>\n",
       "      <td>Here is Sydney and it is possible that this ki...</td>\n",
       "      <td>1</td>\n",
       "    </tr>\n",
       "    <tr>\n",
       "      <th>4421</th>\n",
       "      <td>massive earthquake</td>\n",
       "      <td>0</td>\n",
       "    </tr>\n",
       "    <tr>\n",
       "      <th>4422</th>\n",
       "      <td>I understand it just a little .</td>\n",
       "      <td>0</td>\n",
       "    </tr>\n",
       "    <tr>\n",
       "      <th>4423</th>\n",
       "      <td>I am sorry , but I did not proofread this even...</td>\n",
       "      <td>1</td>\n",
       "    </tr>\n",
       "  </tbody>\n",
       "</table>\n",
       "<p>4424 rows × 2 columns</p>\n",
       "</div>"
      ],
      "text/plain": [
       "                                               sentence  label\n",
       "0     If I have things that I want to do , I have to...      1\n",
       "1                                         I am hungry .      1\n",
       "2                         The mouse nibbled the cheese.      1\n",
       "3                   I think that is what is important .      1\n",
       "4       Someone in the residents is a flower designer .      1\n",
       "...                                                 ...    ...\n",
       "4419  And the dances were in the orbit of the planets .      1\n",
       "4420  Here is Sydney and it is possible that this ki...      1\n",
       "4421                                 massive earthquake      0\n",
       "4422                    I understand it just a little .      0\n",
       "4423  I am sorry , but I did not proofread this even...      1\n",
       "\n",
       "[4424 rows x 2 columns]"
      ]
     },
     "execution_count": null,
     "metadata": {},
     "output_type": "execute_result"
    }
   ],
   "source": [
    "#| hide\n",
    "final_test_df"
   ]
  },
  {
   "cell_type": "code",
   "execution_count": null,
   "id": "3fc46e8e-212b-4a29-b569-5ce996fe5f67",
   "metadata": {},
   "outputs": [],
   "source": [
    "#| hide\n",
    "final_train_df.to_csv('../data/merged_data/train_data.csv',index=False)"
   ]
  },
  {
   "cell_type": "code",
   "execution_count": null,
   "id": "40e49b97-2ba1-4ccb-a8bb-c73bf19a14c9",
   "metadata": {},
   "outputs": [],
   "source": [
    "#| hide\n",
    "final_test_df.to_csv('../data/merged_data/test_data.csv',index=False)"
   ]
  },
  {
   "cell_type": "code",
   "execution_count": null,
   "id": "9476baea-adb8-49e7-80bd-f6d1fa7fd11a",
   "metadata": {},
   "outputs": [],
   "source": []
  }
 ],
 "metadata": {
  "kernelspec": {
   "display_name": "python3",
   "language": "python",
   "name": "python3"
  }
 },
 "nbformat": 4,
 "nbformat_minor": 5
}
