{
 "cells": [
  {
   "cell_type": "code",
   "execution_count": null,
   "id": "33aeca61-09de-4651-b099-d0cf7ea98dd6",
   "metadata": {},
   "outputs": [],
   "source": [
    "#| hide\n",
    "import pandas as pd\n",
    "\n",
    "from en_grammar_checker.config import Config"
   ]
  },
  {
   "cell_type": "code",
   "execution_count": null,
   "id": "ebc8f77a-73a2-4808-a3d1-94999e7ace27",
   "metadata": {},
   "outputs": [],
   "source": [
    "#| hide\n",
    "cnfg = Config()"
   ]
  },
  {
   "cell_type": "code",
   "execution_count": null,
   "id": "fa518140-5271-465d-8e80-2069d7424999",
   "metadata": {},
   "outputs": [],
   "source": [
    "#| hide\n",
    "dataset_path = cnfg.base_dataset_path"
   ]
  },
  {
   "cell_type": "code",
   "execution_count": null,
   "id": "8c9caaf3-81fa-4eca-b07a-5d9a5636f075",
   "metadata": {},
   "outputs": [
    {
     "data": {
      "text/plain": [
       "'../data/cola_public/raw/'"
      ]
     },
     "execution_count": null,
     "metadata": {},
     "output_type": "execute_result"
    }
   ],
   "source": [
    "#| hide\n",
    "dataset_path"
   ]
  },
  {
   "cell_type": "code",
   "execution_count": null,
   "id": "ce19d6ea-8f59-4b0f-abd8-2f5707c18af8",
   "metadata": {},
   "outputs": [],
   "source": []
  },
  {
   "cell_type": "code",
   "execution_count": null,
   "id": "4d473133-55d4-424e-b6e3-fe26bc10bb99",
   "metadata": {},
   "outputs": [],
   "source": [
    "#| hide\n",
    "df_train = pd.read_csv(\n",
    "    f\"{dataset_path}in_domain_train.tsv\",\n",
    "    delimiter=\"\\t\",\n",
    "    header=None,\n",
    "    names=[\"sentence_source\", \"label\", \"label_notes\", \"sentence\"],\n",
    ")"
   ]
  },
  {
   "cell_type": "code",
   "execution_count": null,
   "id": "53e0d0de-5d47-4219-9c4f-fe3ab6fc5983",
   "metadata": {},
   "outputs": [],
   "source": []
  },
  {
   "cell_type": "code",
   "execution_count": null,
   "id": "38268f53-25bf-462c-a1c0-a356d3bfcedf",
   "metadata": {},
   "outputs": [
    {
     "data": {
      "text/html": [
       "<div>\n",
       "<style scoped>\n",
       "    .dataframe tbody tr th:only-of-type {\n",
       "        vertical-align: middle;\n",
       "    }\n",
       "\n",
       "    .dataframe tbody tr th {\n",
       "        vertical-align: top;\n",
       "    }\n",
       "\n",
       "    .dataframe thead th {\n",
       "        text-align: right;\n",
       "    }\n",
       "</style>\n",
       "<table border=\"1\" class=\"dataframe\">\n",
       "  <thead>\n",
       "    <tr style=\"text-align: right;\">\n",
       "      <th></th>\n",
       "      <th>sentence_source</th>\n",
       "      <th>label</th>\n",
       "      <th>label_notes</th>\n",
       "      <th>sentence</th>\n",
       "    </tr>\n",
       "  </thead>\n",
       "  <tbody>\n",
       "    <tr>\n",
       "      <th>0</th>\n",
       "      <td>gj04</td>\n",
       "      <td>1</td>\n",
       "      <td>NaN</td>\n",
       "      <td>Our friends won't buy this analysis, let alone...</td>\n",
       "    </tr>\n",
       "    <tr>\n",
       "      <th>1</th>\n",
       "      <td>gj04</td>\n",
       "      <td>1</td>\n",
       "      <td>NaN</td>\n",
       "      <td>One more pseudo generalization and I'm giving up.</td>\n",
       "    </tr>\n",
       "    <tr>\n",
       "      <th>2</th>\n",
       "      <td>gj04</td>\n",
       "      <td>1</td>\n",
       "      <td>NaN</td>\n",
       "      <td>One more pseudo generalization or I'm giving up.</td>\n",
       "    </tr>\n",
       "    <tr>\n",
       "      <th>3</th>\n",
       "      <td>gj04</td>\n",
       "      <td>1</td>\n",
       "      <td>NaN</td>\n",
       "      <td>The more we study verbs, the crazier they get.</td>\n",
       "    </tr>\n",
       "    <tr>\n",
       "      <th>4</th>\n",
       "      <td>gj04</td>\n",
       "      <td>1</td>\n",
       "      <td>NaN</td>\n",
       "      <td>Day by day the facts are getting murkier.</td>\n",
       "    </tr>\n",
       "  </tbody>\n",
       "</table>\n",
       "</div>"
      ],
      "text/plain": [
       "  sentence_source  label label_notes  \\\n",
       "0            gj04      1         NaN   \n",
       "1            gj04      1         NaN   \n",
       "2            gj04      1         NaN   \n",
       "3            gj04      1         NaN   \n",
       "4            gj04      1         NaN   \n",
       "\n",
       "                                            sentence  \n",
       "0  Our friends won't buy this analysis, let alone...  \n",
       "1  One more pseudo generalization and I'm giving up.  \n",
       "2   One more pseudo generalization or I'm giving up.  \n",
       "3     The more we study verbs, the crazier they get.  \n",
       "4          Day by day the facts are getting murkier.  "
      ]
     },
     "execution_count": null,
     "metadata": {},
     "output_type": "execute_result"
    }
   ],
   "source": [
    "#| hide\n",
    "df_train.head()"
   ]
  },
  {
   "cell_type": "code",
   "execution_count": null,
   "id": "8dc50378-1f19-44ec-83aa-539515390445",
   "metadata": {},
   "outputs": [
    {
     "data": {
      "text/plain": [
       "\"Our friends won't buy this analysis, let alone the next one we propose.\""
      ]
     },
     "execution_count": null,
     "metadata": {},
     "output_type": "execute_result"
    }
   ],
   "source": [
    "df_train.iloc[0].sentence"
   ]
  },
  {
   "cell_type": "code",
   "execution_count": null,
   "id": "393f6dab-2903-4677-8cee-2967824dba17",
   "metadata": {},
   "outputs": [],
   "source": []
  },
  {
   "cell_type": "code",
   "execution_count": null,
   "id": "1a9b20c3-e58d-4ee9-8147-dc6d07665ccd",
   "metadata": {},
   "outputs": [],
   "source": []
  },
  {
   "cell_type": "code",
   "execution_count": null,
   "id": "04ddaf0e-adf4-499c-9c5e-06ba1dd0b61a",
   "metadata": {},
   "outputs": [],
   "source": []
  },
  {
   "cell_type": "code",
   "execution_count": null,
   "id": "11472c46-d746-4152-bf24-ff6fa86a8cfb",
   "metadata": {},
   "outputs": [
    {
     "data": {
      "text/plain": [
       "sentence_source\n",
       "ks08      1745\n",
       "l-93      1294\n",
       "r-67       916\n",
       "ad03       852\n",
       "c_13       778\n",
       "bc01       772\n",
       "sks13      573\n",
       "m_02       378\n",
       "b_73       238\n",
       "cj99       210\n",
       "d_98       162\n",
       "sgww85     139\n",
       "rhl07      134\n",
       "gj04        99\n",
       "g_81        99\n",
       "b_82        83\n",
       "kl93        79\n",
       "Name: count, dtype: int64"
      ]
     },
     "execution_count": null,
     "metadata": {},
     "output_type": "execute_result"
    }
   ],
   "source": [
    "#| hide\n",
    "df_train.sentence_source.value_counts()"
   ]
  },
  {
   "cell_type": "code",
   "execution_count": null,
   "id": "7ba667f0-cd48-410f-bc25-ffc37ba22d8f",
   "metadata": {},
   "outputs": [
    {
     "name": "stdout",
     "output_type": "stream",
     "text": [
      "<class 'pandas.core.frame.DataFrame'>\n",
      "RangeIndex: 8551 entries, 0 to 8550\n",
      "Data columns (total 4 columns):\n",
      " #   Column           Non-Null Count  Dtype \n",
      "---  ------           --------------  ----- \n",
      " 0   sentence_source  8551 non-null   object\n",
      " 1   label            8551 non-null   int64 \n",
      " 2   label_notes      2527 non-null   object\n",
      " 3   sentence         8551 non-null   object\n",
      "dtypes: int64(1), object(3)\n",
      "memory usage: 267.3+ KB\n"
     ]
    }
   ],
   "source": [
    "#| hide\n",
    "df_train.info()"
   ]
  },
  {
   "cell_type": "code",
   "execution_count": null,
   "id": "1ef19d30-416f-4a16-b4f9-62c7daefa541",
   "metadata": {},
   "outputs": [
    {
     "data": {
      "text/plain": [
       "label\n",
       "1    6023\n",
       "0    2528\n",
       "Name: count, dtype: int64"
      ]
     },
     "execution_count": null,
     "metadata": {},
     "output_type": "execute_result"
    }
   ],
   "source": [
    "#| hide\n",
    "df_train.label.value_counts()"
   ]
  },
  {
   "cell_type": "code",
   "execution_count": null,
   "id": "c23783e7-27d0-4e6b-bc37-67c99c7a7662",
   "metadata": {},
   "outputs": [
    {
     "data": {
      "text/plain": [
       "sentence\n",
       "2    7538\n",
       "1     990\n",
       "3      20\n",
       "4       3\n",
       "Name: count, dtype: int64"
      ]
     },
     "execution_count": null,
     "metadata": {},
     "output_type": "execute_result"
    }
   ],
   "source": [
    "#| hide\n",
    "df_train.sentence.apply(lambda x: len(x.split(\".\"))).value_counts()"
   ]
  },
  {
   "cell_type": "code",
   "execution_count": null,
   "id": "c2df7f38-dd21-4cb4-8935-ff27bc85f379",
   "metadata": {},
   "outputs": [],
   "source": [
    "# df_train.sentence.apply(lambda x: len(x.split('.')))"
   ]
  },
  {
   "cell_type": "code",
   "execution_count": null,
   "id": "6925cda5",
   "metadata": {},
   "outputs": [
    {
     "data": {
      "text/plain": [
       "count    8551.000000\n",
       "mean        7.696059\n",
       "std         3.622946\n",
       "min         2.000000\n",
       "25%         5.000000\n",
       "50%         7.000000\n",
       "75%         9.000000\n",
       "max        42.000000\n",
       "Name: sentence, dtype: float64"
      ]
     },
     "execution_count": null,
     "metadata": {},
     "output_type": "execute_result"
    }
   ],
   "source": [
    "df_train.sentence.apply(lambda x: len(x.split(\" \"))).describe()"
   ]
  },
  {
   "cell_type": "code",
   "execution_count": null,
   "id": "970e48bf",
   "metadata": {},
   "outputs": [],
   "source": []
  },
  {
   "cell_type": "code",
   "execution_count": null,
   "id": "fc2e34c4",
   "metadata": {},
   "outputs": [],
   "source": []
  }
 ],
 "metadata": {
  "kernelspec": {
   "display_name": "python3",
   "language": "python",
   "name": "python3"
  }
 },
 "nbformat": 4,
 "nbformat_minor": 5
}
