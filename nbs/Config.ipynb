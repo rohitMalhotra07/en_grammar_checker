{
 "cells": [
  {
   "cell_type": "markdown",
   "metadata": {},
   "source": [
    "# Define Config file\n",
    "\n",
    "> set dataset path, model_name, validation split, etc."
   ]
  },
  {
   "cell_type": "code",
   "execution_count": null,
   "metadata": {},
   "outputs": [],
   "source": [
    "#| default_exp config"
   ]
  },
  {
   "cell_type": "code",
   "execution_count": null,
   "metadata": {},
   "outputs": [],
   "source": [
    "#| export\n",
    "\n",
    "\n",
    "class Config:\n",
    "    \"Class to define config for the project\"\n",
    "    base_dataset_path = \"../data/cola_public/raw/\"\n",
    "    base_model_name = \"microsoft/deberta-v3-large\"\n",
    "\n",
    "    train_path = f\"{base_dataset_path}in_domain_train.tsv\"\n",
    "\n",
    "    # Model Params\n",
    "    context_length = 512  # Maximum sentence length\n",
    "    num_classes = 2\n",
    "\n",
    "    # Training Params\n",
    "    train_batch_size = 8\n",
    "    val_batch_size = 8\n",
    "    test_batch_size = 1"
   ]
  }
 ],
 "metadata": {
  "kernelspec": {
   "display_name": "python3",
   "language": "python",
   "name": "python3"
  }
 },
 "nbformat": 4,
 "nbformat_minor": 4
}
