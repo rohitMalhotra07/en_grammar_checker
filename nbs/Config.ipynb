{
 "cells": [
  {
   "cell_type": "markdown",
   "metadata": {},
   "source": [
    "# Define Config file\n",
    "\n",
    "> set dataset path, model_name, validation split, etc."
   ]
  },
  {
   "cell_type": "code",
   "execution_count": null,
   "metadata": {},
   "outputs": [],
   "source": [
    "#| default_exp config"
   ]
  },
  {
   "cell_type": "code",
   "execution_count": null,
   "metadata": {},
   "outputs": [],
   "source": [
    "#| export\n",
    "\n",
    "class Config:\n",
    "    \"Class to define config for the project\"\n",
    "    base_dataset_path  = '../datasets/cola_public/raw/'\n",
    "    base_model_name = 'microsoft/deberta-v3-large'\n",
    "\n"
   ]
  }
 ],
 "metadata": {},
 "nbformat": 4,
 "nbformat_minor": 2
}
